{
 "cells": [
  {
   "cell_type": "markdown",
   "metadata": {},
   "source": [
    "### PRIMITIVES\n",
    "#### The basic block of code that performs a task without displaying the complexity of how\n",
    "\n",
    "ESTIMATOR PRIMITIVE - computes expectation values of observables with the respective states prepared by quantum circuits.\n",
    "\n",
    "SAMPLER PRIMITIVE - return shot by shot bit strings sampled from thr ptobability distribution of the quantum state prepared on the device. \n",
    "\n"
   ]
  },
  {
   "cell_type": "markdown",
   "metadata": {
    "vscode": {
     "languageId": "plaintext"
    }
   },
   "source": [
    "#####  - Transverse field ising model to demo primitives"
   ]
  },
  {
   "cell_type": "code",
   "execution_count": 3,
   "metadata": {},
   "outputs": [],
   "source": [
    "import qiskit\n",
    "from qiskit import QuantumCircuit"
   ]
  },
  {
   "cell_type": "code",
   "execution_count": null,
   "metadata": {},
   "outputs": [],
   "source": [
    "def gen_1d_tfim_circuit(num_qubits, num_trotter_steps, rx_angles):\n",
    "    qc = QuantumCircuit(num_qubits)\n",
    "\n",
    "    for trotter_steps in num_trotter_steps:\n",
    "        add_1d_tfim_model_layer(qc, rx_angles)\n",
    "\n",
    "    return qc"
   ]
  }
 ],
 "metadata": {
  "kernelspec": {
   "display_name": "Python 3",
   "language": "python",
   "name": "python3"
  },
  "language_info": {
   "codemirror_mode": {
    "name": "ipython",
    "version": 3
   },
   "file_extension": ".py",
   "mimetype": "text/x-python",
   "name": "python",
   "nbconvert_exporter": "python",
   "pygments_lexer": "ipython3",
   "version": "3.12.4"
  }
 },
 "nbformat": 4,
 "nbformat_minor": 2
}
