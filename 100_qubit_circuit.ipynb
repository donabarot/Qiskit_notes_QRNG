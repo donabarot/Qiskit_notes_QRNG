{
 "cells": [
  {
   "cell_type": "code",
   "execution_count": 1,
   "metadata": {},
   "outputs": [],
   "source": [
    "import qiskit"
   ]
  },
  {
   "cell_type": "markdown",
   "metadata": {},
   "source": [
    "#### GHZ (Greenberger Horne Zilinger) state is a specific type of quantum entanglement state that requires 3 or more qubits. it is represented as 1/sqrt(2) [|000> + |111>]"
   ]
  },
  {
   "cell_type": "code",
   "execution_count": 13,
   "metadata": {},
   "outputs": [
    {
     "data": {
      "text/html": [
       "<pre style=\"word-wrap: normal;white-space: pre;background: #fff0;line-height: 1.1;font-family: &quot;Courier New&quot;,Courier,monospace\">     ┌───┐                                             \n",
       "q_0: ┤ H ├──■──────────────────────────────────────────\n",
       "     └───┘┌─┴─┐                                        \n",
       "q_1: ─────┤ X ├──■─────────────────────────────────────\n",
       "          └───┘┌─┴─┐                                   \n",
       "q_2: ──────────┤ X ├──■────────────────────────────────\n",
       "               └───┘┌─┴─┐                              \n",
       "q_3: ───────────────┤ X ├──■───────────────────────────\n",
       "                    └───┘┌─┴─┐                         \n",
       "q_4: ────────────────────┤ X ├──■──────────────────────\n",
       "                         └───┘┌─┴─┐                    \n",
       "q_5: ─────────────────────────┤ X ├──■─────────────────\n",
       "                              └───┘┌─┴─┐               \n",
       "q_6: ──────────────────────────────┤ X ├──■────────────\n",
       "                                   └───┘┌─┴─┐          \n",
       "q_7: ───────────────────────────────────┤ X ├──■───────\n",
       "                                        └───┘┌─┴─┐     \n",
       "q_8: ────────────────────────────────────────┤ X ├──■──\n",
       "                                             └───┘┌─┴─┐\n",
       "q_9: ─────────────────────────────────────────────┤ X ├\n",
       "                                                  └───┘</pre>"
      ],
      "text/plain": [
       "     ┌───┐                                             \n",
       "q_0: ┤ H ├──■──────────────────────────────────────────\n",
       "     └───┘┌─┴─┐                                        \n",
       "q_1: ─────┤ X ├──■─────────────────────────────────────\n",
       "          └───┘┌─┴─┐                                   \n",
       "q_2: ──────────┤ X ├──■────────────────────────────────\n",
       "               └───┘┌─┴─┐                              \n",
       "q_3: ───────────────┤ X ├──■───────────────────────────\n",
       "                    └───┘┌─┴─┐                         \n",
       "q_4: ────────────────────┤ X ├──■──────────────────────\n",
       "                         └───┘┌─┴─┐                    \n",
       "q_5: ─────────────────────────┤ X ├──■─────────────────\n",
       "                              └───┘┌─┴─┐               \n",
       "q_6: ──────────────────────────────┤ X ├──■────────────\n",
       "                                   └───┘┌─┴─┐          \n",
       "q_7: ───────────────────────────────────┤ X ├──■───────\n",
       "                                        └───┘┌─┴─┐     \n",
       "q_8: ────────────────────────────────────────┤ X ├──■──\n",
       "                                             └───┘┌─┴─┐\n",
       "q_9: ─────────────────────────────────────────────┤ X ├\n",
       "                                                  └───┘"
      ]
     },
     "execution_count": 13,
     "metadata": {},
     "output_type": "execute_result"
    }
   ],
   "source": [
    "#generating a circuit with n number of qubits\n",
    "\n",
    "from qiskit import QuantumCircuit\n",
    "\n",
    "# we will create a function to create a circuit in GHZ state:\n",
    "\n",
    "def n_qubit_circuit(n:int)-> QuantumCircuit:\n",
    "    #n (which should be an integer) is the parameter for num of qubits\n",
    "    # ->QuantumCircuit - return variable\n",
    "\n",
    "    if isinstance(n, int) and n>=2:  # validating n is an integer and greater than 2 (GHZ state requires more than 2 qubits)\n",
    "        qc=QuantumCircuit(n)\n",
    "        qc.h(0)\n",
    "        for i in range(n-1):  #applying cnot gate on the rest of the qubits till end\n",
    "            qc.cx(i, i+1)\n",
    "    else:\n",
    "        raise Exception(\"n is not a valid input\")\n",
    "    return qc\n",
    "\n",
    "\n",
    "n = 10\n",
    "qc = n_qubit_circuit(n)\n",
    "qc.draw()\n",
    "\n",
    "    "
   ]
  },
  {
   "cell_type": "code",
   "execution_count": 14,
   "metadata": {},
   "outputs": [
    {
     "name": "stdout",
     "output_type": "stream",
     "text": [
      "['ZZIIIIIIII', 'ZIZIIIIIII', 'ZIIZIIIIII', 'ZIIIZIIIII', 'ZIIIIZIIII', 'ZIIIIIZIII', 'ZIIIIIIZII', 'ZIIIIIIIZI', 'ZIIIIIIIIZ']\n",
      "9\n"
     ]
    }
   ],
   "source": [
    "from qiskit.quantum_info import SparsePauliOp\n",
    "\n",
    "operator_strings = ['Z'+'I'*i + 'Z' + 'I'*(n-2-i) for i in range(n-1)]\n",
    "print(operator_strings)\n",
    "print(len(operator_strings))\n",
    "\n",
    "operators =[SparsePauliOp(operator) for operator in operator_strings]"
   ]
  },
  {
   "cell_type": "code",
   "execution_count": 21,
   "metadata": {},
   "outputs": [],
   "source": [
    "\n",
    "from qiskit_ibm_runtime import QiskitRuntimeService\n",
    "service=QiskitRuntimeService(channel=\"ibm_quantum\", \n",
    "                             token=\"828152830a71e2a562b8f59596e4755753350f186c24c2d6005fa6192bd895b04bbfc0ba4ac15046f0f64fc077fc8a774602de307e75da8bf9c9fa8b29fc37aa\")\n"
   ]
  },
  {
   "cell_type": "code",
   "execution_count": 35,
   "metadata": {},
   "outputs": [],
   "source": [
    "from qiskit.transpiler.preset_passmanagers import generate_preset_pass_manager\n",
    "from qiskit import QuantumCircuit\n",
    "from qiskit_ibm_runtime import QiskitRuntimeService\n",
    "\n",
    "service = QiskitRuntimeService()\n",
    "backend = service.least_busy(simulator=False, operational=True, min_num_qubits=10)\n",
    "\n",
    "pm = generate_preset_pass_manager(optimization_level=1, backend=backend)\n",
    "\n",
    "# Ensure qc is a single QuantumCircuit\n",
    "if isinstance(qc, QuantumCircuit):\n",
    "    isa_circuit = pm.run(qc)\n",
    "elif isinstance(qc, list) and all(isinstance(c, QuantumCircuit) for c in qc):\n",
    "    isa_circuit = pm.run(qc)[0]  # Take the first circuit\n",
    "else:\n",
    "    raise ValueError(\"qc should be a QuantumCircuit or a list of QuantumCircuit objects.\")\n",
    "\n",
    "# Apply layout to operators\n",
    "isa_operators_list = [op.apply_layout(isa_circuit.layout) for op in operators]\n"
   ]
  },
  {
   "cell_type": "code",
   "execution_count": 36,
   "metadata": {},
   "outputs": [
    {
     "name": "stdout",
     "output_type": "stream",
     "text": [
      "<class 'qiskit.circuit.quantumcircuit.QuantumCircuit'>\n"
     ]
    }
   ],
   "source": [
    "print(type(isa_circuit))"
   ]
  },
  {
   "cell_type": "code",
   "execution_count": 26,
   "metadata": {},
   "outputs": [],
   "source": [
    "from qiskit_ibm_runtime import EstimatorOptions\n",
    "from qiskit_ibm_runtime import EstimatorV2 as Estimator\n",
    "\n",
    "options = EstimatorOptions()\n",
    "options.resilience_level = 1\n",
    "options.dynamical_decoupling.enable = True\n",
    "options.dynamical_decoupling.sequence_type = 'XY4'\n",
    "\n",
    "estimator = Estimator(backend, options = options)\n"
   ]
  },
  {
   "cell_type": "code",
   "execution_count": 38,
   "metadata": {},
   "outputs": [
    {
     "name": "stdout",
     "output_type": "stream",
     "text": [
      "cv5deja12hg0008wh540\n"
     ]
    }
   ],
   "source": [
    "job = estimator.run([(isa_circuit, isa_operators_list)])\n",
    "job_id = job.job_id()\n",
    "print(job_id)"
   ]
  },
  {
   "cell_type": "code",
   "execution_count": 40,
   "metadata": {},
   "outputs": [
    {
     "data": {
      "image/png": "[encoded data removed]",
      "text/plain": [
       "<Figure size 640x480 with 1 Axes>"
      ]
     },
     "metadata": {},
     "output_type": "display_data"
    }
   ],
   "source": [
    "import matplotlib.pyplot as plt\n",
    "import numpy as np\n",
    "from qiskit_ibm_runtime import QiskitRuntimeService\n",
    " \n",
    "# data\n",
    "data = list(range(1, len(operators)+1)) # Distance between the Z operators\n",
    "result = job.result()[0]\n",
    "values = result.data.evs # Expectation value at each Z operator.\n",
    "values = [v / values[0] for v in values] # Normalize the expectation values to evaluate how they decay with distance.\n",
    " \n",
    "# plotting graph\n",
    "plt.plot(data, values, marker='o', label='10-qubit GHZ state')\n",
    "plt.xlabel('Distance between qubits $i$')\n",
    "plt.ylabel(r'$\\langle Z_i Z_0 \\rangle / \\langle Z_1 Z_0 \\rangle $')\n",
    "plt.legend()\n",
    "plt.show()"
   ]
  }
 ],
 "metadata": {
  "kernelspec": {
   "display_name": "Python 3",
   "language": "python",
   "name": "python3"
  },
  "language_info": {
   "codemirror_mode": {
    "name": "ipython",
    "version": 3
   },
   "file_extension": ".py",
   "mimetype": "text/x-python",
   "name": "python",
   "nbconvert_exporter": "python",
   "pygments_lexer": "ipython3",
   "version": "3.12.4"
  }
 },
 "nbformat": 4,
 "nbformat_minor": 2
}
