{
 "cells": [
  {
   "cell_type": "markdown",
   "metadata": {},
   "source": [
    "## Write the Hello World program on qiskit using two qubit bell-state\n",
    "\n",
    "### step 1: Map the problem to circuits and operators\n",
    "##### Basically, this step includes providing the instructions to a quantum circuit or operator for it to function. This can be done either by making a quantum circuit and adding gates to it or using operators."
   ]
  },
  {
   "cell_type": "code",
   "execution_count": 39,
   "metadata": {},
   "outputs": [],
   "source": [
    "from qiskit_ibm_runtime import QiskitRuntimeService\n",
    "\n",
    "service=QiskitRuntimeService(channel=\"ibm_quantum\", \n",
    "                             token=\"828152830a71e2a562b8f59596e4755753350f186c24c2d6005fa6192bd895b04bbfc0ba4ac15046f0f64fc077fc8a774602de307e75da8bf9c9fa8b29fc37aa\")\n"
   ]
  },
  {
   "cell_type": "code",
   "execution_count": 40,
   "metadata": {},
   "outputs": [
    {
     "data": {
      "text/html": [
       "<pre style=\"word-wrap: normal;white-space: pre;background: #fff0;line-height: 1.1;font-family: &quot;Courier New&quot;,Courier,monospace\">     ┌───┐     \n",
       "q_0: ┤ H ├──■──\n",
       "     └───┘┌─┴─┐\n",
       "q_1: ─────┤ X ├\n",
       "          └───┘</pre>"
      ],
      "text/plain": [
       "     ┌───┐     \n",
       "q_0: ┤ H ├──■──\n",
       "     └───┘┌─┴─┐\n",
       "q_1: ─────┤ X ├\n",
       "          └───┘"
      ]
     },
     "execution_count": 40,
     "metadata": {},
     "output_type": "execute_result"
    }
   ],
   "source": [
    "#generating bell state\n",
    "from qiskit import QuantumCircuit\n",
    "qc=QuantumCircuit(2)        #2 indicates number of qubits we are using\n",
    "qc.h(0)                     #hadamard gate on 0th qubit\n",
    "qc.cx(0,1)                  #cnot on 0 and 1 position\n",
    "qc.draw()       #this draws output using a library called matplotlib"
   ]
  },
  {
   "cell_type": "code",
   "execution_count": 41,
   "metadata": {},
   "outputs": [],
   "source": [
    "from qiskit.quantum_info import Pauli\n",
    "\n",
    "ZZ = Pauli('ZZ')\n",
    "ZI = Pauli('ZI')\n",
    "IZ = Pauli('IZ')\n",
    "XX = Pauli('XX')\n",
    "XI = Pauli('XI')\n",
    "IX = Pauli('IX')\n",
    "\n",
    "quantum_observable = [ZZ, ZI, IZ, XX, XI, IX]\n",
    "\n",
    "#In qiskit, we have two ways to get output of the data :\n",
    " # (1) probability distribution of the number of qubits we choose to measure\n",
    " # (2) expectation value of an observable"
   ]
  },
  {
   "cell_type": "code",
   "execution_count": 51,
   "metadata": {},
   "outputs": [
    {
     "name": "stdout",
     "output_type": "stream",
     "text": [
      "SparsePauliOp(['ZZ'],\n",
      "              coeffs=[1.+0.j])\n",
      "SparsePauliOp(['IZ'],\n",
      "              coeffs=[1.+0.j])\n",
      "SparsePauliOp(['ZI'],\n",
      "              coeffs=[1.+0.j])\n",
      "SparsePauliOp(['XX'],\n",
      "              coeffs=[1.+0.j])\n",
      "SparsePauliOp(['IX'],\n",
      "              coeffs=[1.+0.j])\n",
      "SparsePauliOp(['XI'],\n",
      "              coeffs=[1.+0.j])\n"
     ]
    }
   ],
   "source": [
    "from qiskit.quantum_info import SparsePauliOp  #sparsepauliop is a class that takes in object(label) and is used to represent Pauli operators in sparse(simple) form\n",
    "\n",
    "observable_labels = ['ZZ', 'IZ','ZI','XX','IX','XI']\n",
    "observables = [SparsePauliOp(labels) for labels in observable_labels]\n",
    "for observable in observables:\n",
    "        print(observable)\n",
    "\n",
    "        #if the qubits are entangled then the coeff of sparsepauliop will be 1."
   ]
  },
  {
   "cell_type": "code",
   "execution_count": 43,
   "metadata": {},
   "outputs": [
    {
     "name": "stdout",
     "output_type": "stream",
     "text": [
      "SparsePauliOp(['ZZ'],\n",
      "              coeffs=[1.+0.j])\n"
     ]
    }
   ],
   "source": [
    "print(SparsePauliOp(ZZ))"
   ]
  },
  {
   "cell_type": "markdown",
   "metadata": {},
   "source": [
    "### step - 2: Optimising the circuits and operators (backend)\n",
    "Optimisation means to make the best use of the information. Here, despite we write code in the same langugae, we need to modify it in much simpler terms customising for the backend service we are going to use.\n",
    "Every backend computer has a different ISA(instruction set architecture), that is a bridge between the code we write and the hardware of the particular backend we are going to use for execution."
   ]
  },
  {
   "cell_type": "code",
   "execution_count": 44,
   "metadata": {},
   "outputs": [
    {
     "name": "stdout",
     "output_type": "stream",
     "text": [
      "<IBMBackend('ibm_kyoto')>\n"
     ]
    }
   ],
   "source": [
    "#just checking which backend service is available\n",
    "#if there is none available, then the optimization might not happen and it throws error\n",
    "\n",
    "from qiskit_ibm_runtime import QiskitRuntimeService\n",
    "service = QiskitRuntimeService()\n",
    "\n",
    "available_backend = service.least_busy(simulator=False, operational = True)\n",
    "print(available_backend)"
   ]
  },
  {
   "cell_type": "code",
   "execution_count": 45,
   "metadata": {},
   "outputs": [
    {
     "data": {
      "image/png": "[encoded data removed]",
      "text/plain": [
       "<Figure size 757.83x200.667 with 1 Axes>"
      ]
     },
     "execution_count": 45,
     "metadata": {},
     "output_type": "execute_result"
    }
   ],
   "source": [
    "from qiskit_ibm_runtime import QiskitRuntimeService\n",
    "from qiskit.transpiler.preset_passmanagers import generate_preset_pass_manager\n",
    "#transpiler - this is responsible for converting high level quantum circuit into low level that can be executed on selected quantum hardware.\n",
    "#pass managers - this is a collection of transformation(passes) which a traspiler applies to optimize the circuit.\n",
    "\n",
    "service = QiskitRuntimeService() #this line initializes QRS which we will use to connect to IBMs backend.\n",
    "\n",
    "#simulator - a software that mimics the behavior of quantum computer but operates on a classical comp.\n",
    "#operational - real quantum hardware.\n",
    "\n",
    "backend_device = service.least_busy(simulator = False , operational = True)\n",
    "\n",
    "#optimization_level - the breakdown of the circuits is numbered on levels, higher the level, more simpler the circuit gets, takes more time to run.\n",
    "\n",
    "pm = generate_preset_pass_manager(backend=backend_device, optimization_level=1)\n",
    "isa_circuit = pm.run(qc)\n",
    "isa_circuit.draw(output='mpl', idle_wires=False)"
   ]
  },
  {
   "cell_type": "markdown",
   "metadata": {},
   "source": [
    "### step - 3: Execution using primitive 'estimator'\n",
    "Since the quantum results are randon(unpredictable), we run the circuit many times. To find the average values of observables, we use Estimator. It a one of the type of primitive (other is sampler - used to gather raw data).\n"
   ]
  },
  {
   "cell_type": "code",
   "execution_count": 46,
   "metadata": {},
   "outputs": [
    {
     "data": {
      "text/plain": [
       "EstimatorResult(values=array([ 1.        , -0.04296875, -0.04296875,  1.        ,  0.05664062,\n",
       "        0.05664062]), metadata=[{'shots': 1024, 'variance': 0.0, 'simulator_metadata': [{'batched_shots_optimization': False, 'required_memory_mb': 0, 'method': 'stabilizer', 'active_input_qubits': [0, 1], 'device': 'CPU', 'remapped_qubits': False, 'num_qubits': 2, 'num_clbits': 2, 'time_taken': 0.0067126, 'sample_measure_time': 0.0011885, 'input_qubit_map': [[0, 0], [1, 1]], 'max_memory_mb': 32012, 'measure_sampling': True, 'noise': 'ideal', 'parallel_shots': 1, 'parallel_state_update': 16, 'runtime_parameter_bind': False, 'num_bind_params': 1, 'fusion': {'enabled': False}}]}, {'shots': 1024, 'variance': 0.9981536865234375, 'simulator_metadata': [{'batched_shots_optimization': False, 'required_memory_mb': 0, 'method': 'stabilizer', 'active_input_qubits': [0, 1], 'device': 'CPU', 'remapped_qubits': False, 'num_qubits': 2, 'num_clbits': 2, 'time_taken': 0.0067126, 'sample_measure_time': 0.0011885, 'input_qubit_map': [[0, 0], [1, 1]], 'max_memory_mb': 32012, 'measure_sampling': True, 'noise': 'ideal', 'parallel_shots': 1, 'parallel_state_update': 16, 'runtime_parameter_bind': False, 'num_bind_params': 1, 'fusion': {'enabled': False}}]}, {'shots': 1024, 'variance': 0.9981536865234375, 'simulator_metadata': [{'batched_shots_optimization': False, 'required_memory_mb': 0, 'method': 'stabilizer', 'active_input_qubits': [0, 1], 'device': 'CPU', 'remapped_qubits': False, 'num_qubits': 2, 'num_clbits': 2, 'time_taken': 0.0067126, 'sample_measure_time': 0.0011885, 'input_qubit_map': [[0, 0], [1, 1]], 'max_memory_mb': 32012, 'measure_sampling': True, 'noise': 'ideal', 'parallel_shots': 1, 'parallel_state_update': 16, 'runtime_parameter_bind': False, 'num_bind_params': 1, 'fusion': {'enabled': False}}]}, {'shots': 1024, 'variance': 0.0, 'simulator_metadata': [{'batched_shots_optimization': False, 'required_memory_mb': 0, 'method': 'stabilizer', 'active_input_qubits': [0, 1], 'device': 'CPU', 'remapped_qubits': False, 'num_qubits': 2, 'num_clbits': 2, 'time_taken': 0.0037586, 'sample_measure_time': 0.0017607, 'input_qubit_map': [[0, 0], [1, 1]], 'max_memory_mb': 32012, 'measure_sampling': True, 'noise': 'ideal', 'parallel_shots': 1, 'parallel_state_update': 16, 'runtime_parameter_bind': False, 'num_bind_params': 1, 'fusion': {'enabled': False}}]}, {'shots': 1024, 'variance': 0.9967918395996094, 'simulator_metadata': [{'batched_shots_optimization': False, 'required_memory_mb': 0, 'method': 'stabilizer', 'active_input_qubits': [0, 1], 'device': 'CPU', 'remapped_qubits': False, 'num_qubits': 2, 'num_clbits': 2, 'time_taken': 0.0037586, 'sample_measure_time': 0.0017607, 'input_qubit_map': [[0, 0], [1, 1]], 'max_memory_mb': 32012, 'measure_sampling': True, 'noise': 'ideal', 'parallel_shots': 1, 'parallel_state_update': 16, 'runtime_parameter_bind': False, 'num_bind_params': 1, 'fusion': {'enabled': False}}]}, {'shots': 1024, 'variance': 0.9967918395996094, 'simulator_metadata': [{'batched_shots_optimization': False, 'required_memory_mb': 0, 'method': 'stabilizer', 'active_input_qubits': [0, 1], 'device': 'CPU', 'remapped_qubits': False, 'num_qubits': 2, 'num_clbits': 2, 'time_taken': 0.0037586, 'sample_measure_time': 0.0017607, 'input_qubit_map': [[0, 0], [1, 1]], 'max_memory_mb': 32012, 'measure_sampling': True, 'noise': 'ideal', 'parallel_shots': 1, 'parallel_state_update': 16, 'runtime_parameter_bind': False, 'num_bind_params': 1, 'fusion': {'enabled': False}}]}])"
      ]
     },
     "execution_count": 46,
     "metadata": {},
     "output_type": "execute_result"
    }
   ],
   "source": [
    "from qiskit_aer.primitives import Estimator\n",
    "estimator = Estimator()\n",
    "job = estimator.run([qc] * len(quantum_observable), quantum_observable)\n",
    "job.result()"
   ]
  },
  {
   "cell_type": "code",
   "execution_count": 52,
   "metadata": {},
   "outputs": [
    {
     "name": "stdout",
     "output_type": "stream",
     "text": [
      ">>> Job ID: cv4r1pehdzz0008m12j0\n"
     ]
    }
   ],
   "source": [
    "from qiskit_ibm_runtime import EstimatorV2 as Estimator\n",
    " \n",
    "estimator = Estimator(mode=backend_device)\n",
    "estimator.options.resilience_level = 1 #if this throws an error, import RuntimeOptions from quantum_ibm_runtime\n",
    "estimator.options.default_shots = 5000\n",
    " \n",
    "mapped_observables = [\n",
    "    observable.apply_layout(isa_circuit.layout) for observable in observables\n",
    "]\n",
    " \n",
    "job = estimator.run([(isa_circuit, mapped_observables)])\n",
    " \n",
    "# Use the job ID to retrieve your job data later\n",
    "print(f\">>> Job ID: {job.job_id()}\")"
   ]
  },
  {
   "cell_type": "markdown",
   "metadata": {},
   "source": [
    "#### once the job is executed on the backend, we can fetch the job results"
   ]
  },
  {
   "cell_type": "code",
   "execution_count": 56,
   "metadata": {},
   "outputs": [],
   "source": [
    "job_result = job.result()\n",
    "pub_result =job.result()[0]"
   ]
  },
  {
   "cell_type": "markdown",
   "metadata": {},
   "source": [
    "### Step - 4 : Analyzing the results\n",
    "herein, we just have to utilize the results that we got after execution. we can fetch it to some other workflow.\n",
    "in this example we are going to plot this data into a map for visualization."
   ]
  },
  {
   "cell_type": "code",
   "execution_count": 64,
   "metadata": {},
   "outputs": [
    {
     "data": {
      "image/png": "[encoded data removed]",
      "text/plain": [
       "<Figure size 640x480 with 1 Axes>"
      ]
     },
     "metadata": {},
     "output_type": "display_data"
    }
   ],
   "source": [
    "from matplotlib import pyplot as plt\n",
    "\n",
    "values = pub_result.data.evs\n",
    "errors = pub_result.data.stds\n",
    "\n",
    "# plt.plot = (observable_labels, values,'-o')   #idk why this aint working\n",
    "plt.errorbar(observable_labels, values, yerr=errors, fmt='-o')  #if we are plotting errors as well on the graph then use \"errorbar\"\n",
    "plt.xlabel = ('observables')\n",
    "plt.ylabel = ('values')\n",
    "plt.show()"
   ]
  }
 ],
 "metadata": {
  "kernelspec": {
   "display_name": "Python 3",
   "language": "python",
   "name": "python3"
  },
  "language_info": {
   "codemirror_mode": {
    "name": "ipython",
    "version": 3
   },
   "file_extension": ".py",
   "mimetype": "text/x-python",
   "name": "python",
   "nbconvert_exporter": "python",
   "pygments_lexer": "ipython3",
   "version": "3.12.4"
  }
 },
 "nbformat": 4,
 "nbformat_minor": 2
}
